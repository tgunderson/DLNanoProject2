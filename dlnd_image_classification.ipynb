{
 "cells": [
  {
   "cell_type": "markdown",
   "metadata": {
    "collapsed": true,
    "deletable": true,
    "editable": true
   },
   "source": [
    "# Image Classification\n",
    "In this project, you'll classify images from the [CIFAR-10 dataset](https://www.cs.toronto.edu/~kriz/cifar.html).  The dataset consists of airplanes, dogs, cats, and other objects. You'll preprocess the images, then train a convolutional neural network on all the samples. The images need to be normalized and the labels need to be one-hot encoded.  You'll get to apply what you learned and build a convolutional, max pooling, dropout, and fully connected layers.  At the end, you'll get to see your neural network's predictions on the sample images.\n",
    "## Get the Data\n",
    "Run the following cell to download the [CIFAR-10 dataset for python](https://www.cs.toronto.edu/~kriz/cifar-10-python.tar.gz)."
   ]
  },
  {
   "cell_type": "code",
   "execution_count": 6,
   "metadata": {
    "collapsed": false,
    "deletable": true,
    "editable": true
   },
   "outputs": [
    {
     "name": "stdout",
     "output_type": "stream",
     "text": [
      "All files found!\n"
     ]
    }
   ],
   "source": [
    "\"\"\"\n",
    "DON'T MODIFY ANYTHING IN THIS CELL THAT IS BELOW THIS LINE\n",
    "\"\"\"\n",
    "from urllib.request import urlretrieve\n",
    "from os.path import isfile, isdir\n",
    "from tqdm import tqdm\n",
    "import problem_unittests as tests\n",
    "import tarfile\n",
    "\n",
    "cifar10_dataset_folder_path = 'cifar-10-batches-py'\n",
    "\n",
    "class DLProgress(tqdm):\n",
    "    last_block = 0\n",
    "\n",
    "    def hook(self, block_num=1, block_size=1, total_size=None):\n",
    "        self.total = total_size\n",
    "        self.update((block_num - self.last_block) * block_size)\n",
    "        self.last_block = block_num\n",
    "\n",
    "if not isfile('cifar-10-python.tar.gz'):\n",
    "    with DLProgress(unit='B', unit_scale=True, miniters=1, desc='CIFAR-10 Dataset') as pbar:\n",
    "        urlretrieve(\n",
    "            'https://www.cs.toronto.edu/~kriz/cifar-10-python.tar.gz',\n",
    "            'cifar-10-python.tar.gz',\n",
    "            pbar.hook)\n",
    "\n",
    "if not isdir(cifar10_dataset_folder_path):\n",
    "    with tarfile.open('cifar-10-python.tar.gz') as tar:\n",
    "        tar.extractall()\n",
    "        tar.close()\n",
    "\n",
    "\n",
    "tests.test_folder_path(cifar10_dataset_folder_path)"
   ]
  },
  {
   "cell_type": "markdown",
   "metadata": {
    "deletable": true,
    "editable": true
   },
   "source": [
    "## Explore the Data\n",
    "The dataset is broken into batches to prevent your machine from running out of memory.  The CIFAR-10 dataset consists of 5 batches, named `data_batch_1`, `data_batch_2`, etc.. Each batch contains the labels and images that are one of the following:\n",
    "* airplane\n",
    "* automobile\n",
    "* bird\n",
    "* cat\n",
    "* deer\n",
    "* dog\n",
    "* frog\n",
    "* horse\n",
    "* ship\n",
    "* truck\n",
    "\n",
    "Understanding a dataset is part of making predictions on the data.  Play around with the code cell below by changing the `batch_id` and `sample_id`. The `batch_id` is the id for a batch (1-5). The `sample_id` is the id for a image and label pair in the batch.\n",
    "\n",
    "Ask yourself \"What are all possible labels?\", \"What is the range of values for the image data?\", \"Are the labels in order or random?\".  Answers to questions like these will help you preprocess the data and end up with better predictions."
   ]
  },
  {
   "cell_type": "code",
   "execution_count": 7,
   "metadata": {
    "collapsed": false,
    "deletable": true,
    "editable": true
   },
   "outputs": [
    {
     "name": "stdout",
     "output_type": "stream",
     "text": [
      "\n",
      "Stats of batch 4:\n",
      "Samples: 10000\n",
      "Label Counts: {0: 1003, 1: 963, 2: 1041, 3: 976, 4: 1004, 5: 1021, 6: 1004, 7: 981, 8: 1024, 9: 983}\n",
      "First 20 Labels: [0, 6, 0, 2, 7, 2, 1, 2, 4, 1, 5, 6, 6, 3, 1, 3, 5, 5, 8, 1]\n",
      "\n",
      "Example of Image 200:\n",
      "Image - Min Value: 7 Max Value: 241\n",
      "Image - Shape: (32, 32, 3)\n",
      "Label - Label Id: 0 Name: airplane\n"
     ]
    },
    {
     "data": {
      "image/png": "[encoded data removed]",
      "text/plain": [
       "<matplotlib.figure.Figure at 0x7f0dc2292940>"
      ]
     },
     "metadata": {
      "image/png": {
       "height": 250,
       "width": 253
      }
     },
     "output_type": "display_data"
    }
   ],
   "source": [
    "%matplotlib inline\n",
    "%config InlineBackend.figure_format = 'retina'\n",
    "\n",
    "import helper\n",
    "import numpy as np\n",
    "\n",
    "# Explore the dataset\n",
    "batch_id = 4\n",
    "sample_id = 200\n",
    "helper.display_stats(cifar10_dataset_folder_path, batch_id, sample_id)"
   ]
  },
  {
   "cell_type": "markdown",
   "metadata": {
    "deletable": true,
    "editable": true
   },
   "source": [
    "## Implement Preprocess Functions\n",
    "### Normalize\n",
    "In the cell below, implement the `normalize` function to take in image data, `x`, and return it as a normalized Numpy array. The values should be in the range of 0 to 1, inclusive.  The return object should be the same shape as `x`."
   ]
  },
  {
   "cell_type": "code",
   "execution_count": 8,
   "metadata": {
    "collapsed": false,
    "deletable": true,
    "editable": true
   },
   "outputs": [
    {
     "name": "stdout",
     "output_type": "stream",
     "text": [
      "Tests Passed\n"
     ]
    }
   ],
   "source": [
    "def normalize(x):\n",
    "    \"\"\"\n",
    "    Normalize a list of sample image data in the range of 0 to 1\n",
    "    : x: List of image data.  The image shape is (32, 32, 3)\n",
    "    : return: Numpy array of normalize data\n",
    "    \"\"\"\n",
    "    # TODO: Implement Function\n",
    "    x = x.astype('float32')\n",
    "    if x.max() > 1.0:\n",
    "        x /= 255\n",
    "        return x\n",
    "    return None\n",
    "\n",
    "\n",
    "\"\"\"\n",
    "DON'T MODIFY ANYTHING IN THIS CELL THAT IS BELOW THIS LINE\n",
    "\"\"\"\n",
    "tests.test_normalize(normalize)"
   ]
  },
  {
   "cell_type": "markdown",
   "metadata": {
    "deletable": true,
    "editable": true
   },
   "source": [
    "### One-hot encode\n",
    "Just like the previous code cell, you'll be implementing a function for preprocessing.  This time, you'll implement the `one_hot_encode` function. The input, `x`, are a list of labels.  Implement the function to return the list of labels as One-Hot encoded Numpy array.  The possible values for labels are 0 to 9. The one-hot encoding function should return the same encoding for each value between each call to `one_hot_encode`.  Make sure to save the map of encodings outside the function.\n",
    "\n",
    "Hint: Don't reinvent the wheel."
   ]
  },
  {
   "cell_type": "code",
   "execution_count": 9,
   "metadata": {
    "collapsed": false,
    "deletable": true,
    "editable": true
   },
   "outputs": [
    {
     "name": "stdout",
     "output_type": "stream",
     "text": [
      "Tests Passed\n"
     ]
    }
   ],
   "source": [
    "def one_hot_encode(x):\n",
    "    \"\"\"\n",
    "    One hot encode a list of sample labels. Return a one-hot encoded vector for each label.\n",
    "    : x: List of sample Labels\n",
    "    : return: Numpy array of one-hot encoded labels\n",
    "    \"\"\"\n",
    "    # TODO: Implement Function\n",
    "    # create a np array to fit whatever number of labels we receive\n",
    "    \n",
    "    #print (len(x))\n",
    "    #this will sometimes fail the unit test because sometimes \n",
    "    #we don't get all possible numbers:\n",
    "    #one_hot = np.zeros((len(x), max(x)+1))\n",
    "    #so hard code the 10:\n",
    "    one_hot = np.zeros((len(x), 10))\n",
    "    #print (one_hot.shape)\n",
    "    # set the appropriate elements\n",
    "    one_hot[np.arange(len(x)),x] = 1\t\n",
    "    return one_hot\n",
    "\n",
    "\"\"\"\n",
    "DON'T MODIFY ANYTHING IN THIS CELL THAT IS BELOW THIS LINE\n",
    "\"\"\"\n",
    "tests.test_one_hot_encode(one_hot_encode)"
   ]
  },
  {
   "cell_type": "markdown",
   "metadata": {
    "deletable": true,
    "editable": true
   },
   "source": [
    "### Randomize Data\n",
    "As you saw from exploring the data above, the order of the samples are randomized.  It doesn't hurt to randomize it again, but you don't need to for this dataset."
   ]
  },
  {
   "cell_type": "markdown",
   "metadata": {
    "deletable": true,
    "editable": true
   },
   "source": [
    "## Preprocess all the data and save it\n",
    "Running the code cell below will preprocess all the CIFAR-10 data and save it to file. The code below also uses 10% of the training data for validation."
   ]
  },
  {
   "cell_type": "code",
   "execution_count": 10,
   "metadata": {
    "collapsed": false,
    "deletable": true,
    "editable": true
   },
   "outputs": [],
   "source": [
    "\"\"\"\n",
    "DON'T MODIFY ANYTHING IN THIS CELL\n",
    "\"\"\"\n",
    "# Preprocess Training, Validation, and Testing Data\n",
    "helper.preprocess_and_save_data(cifar10_dataset_folder_path, normalize, one_hot_encode)"
   ]
  },
  {
   "cell_type": "markdown",
   "metadata": {
    "deletable": true,
    "editable": true
   },
   "source": [
    "# Check Point\n",
    "This is your first checkpoint.  If you ever decide to come back to this notebook or have to restart the notebook, you can start from here.  The preprocessed data has been saved to disk."
   ]
  },
  {
   "cell_type": "code",
   "execution_count": 1,
   "metadata": {
    "collapsed": true,
    "deletable": true,
    "editable": true
   },
   "outputs": [],
   "source": [
    "\"\"\"\n",
    "DON'T MODIFY ANYTHING IN THIS CELL\n",
    "\"\"\"\n",
    "import pickle\n",
    "import problem_unittests as tests\n",
    "import helper\n",
    "import numpy as np\n",
    "\n",
    "# Load the Preprocessed Validation data\n",
    "valid_features, valid_labels = pickle.load(open('preprocess_validation.p', mode='rb'))"
   ]
  },
  {
   "cell_type": "markdown",
   "metadata": {
    "deletable": true,
    "editable": true
   },
   "source": [
    "## Build the network\n",
    "For the neural network, you'll build each layer into a function.  Most of the code you've seen has been outside of functions. To test your code more thoroughly, we require that you put each layer in a function.  This allows us to give you better feedback and test for simple mistakes using our unittests before you submit your project.\n",
    "\n",
    ">**Note:** If you're finding it hard to dedicate enough time for this course each week, we've provided a small shortcut to this part of the project. In the next couple of problems, you'll have the option to use classes from the [TensorFlow Layers](https://www.tensorflow.org/api_docs/python/tf/layers) or [TensorFlow Layers (contrib)](https://www.tensorflow.org/api_guides/python/contrib.layers) packages to build each layer, except the layers you build in the \"Convolutional and Max Pooling Layer\" section.  TF Layers is similar to Keras's and TFLearn's abstraction to layers, so it's easy to pickup.\n",
    "\n",
    ">However, if you would like to get the most out of this course, try to solve all the problems _without_ using anything from the TF Layers packages. You **can** still use classes from other packages that happen to have the same name as ones you find in TF Layers! For example, instead of using the TF Layers version of the `conv2d` class, [tf.layers.conv2d](https://www.tensorflow.org/api_docs/python/tf/layers/conv2d), you would want to use the TF Neural Network version of `conv2d`, [tf.nn.conv2d](https://www.tensorflow.org/api_docs/python/tf/nn/conv2d). \n",
    "\n",
    "Let's begin!\n",
    "\n",
    "### Input\n",
    "The neural network needs to read the image data, one-hot encoded labels, and dropout keep probability. Implement the following functions\n",
    "* Implement `neural_net_image_input`\n",
    " * Return a [TF Placeholder](https://www.tensorflow.org/api_docs/python/tf/placeholder)\n",
    " * Set the shape using `image_shape` with batch size set to `None`.\n",
    " * Name the TensorFlow placeholder \"x\" using the TensorFlow `name` parameter in the [TF Placeholder](https://www.tensorflow.org/api_docs/python/tf/placeholder).\n",
    "* Implement `neural_net_label_input`\n",
    " * Return a [TF Placeholder](https://www.tensorflow.org/api_docs/python/tf/placeholder)\n",
    " * Set the shape using `n_classes` with batch size set to `None`.\n",
    " * Name the TensorFlow placeholder \"y\" using the TensorFlow `name` parameter in the [TF Placeholder](https://www.tensorflow.org/api_docs/python/tf/placeholder).\n",
    "* Implement `neural_net_keep_prob_input`\n",
    " * Return a [TF Placeholder](https://www.tensorflow.org/api_docs/python/tf/placeholder) for dropout keep probability.\n",
    " * Name the TensorFlow placeholder \"keep_prob\" using the TensorFlow `name` parameter in the [TF Placeholder](https://www.tensorflow.org/api_docs/python/tf/placeholder).\n",
    "\n",
    "These names will be used at the end of the project to load your saved model.\n",
    "\n",
    "Note: `None` for shapes in TensorFlow allow for a dynamic size."
   ]
  },
  {
   "cell_type": "code",
   "execution_count": 2,
   "metadata": {
    "collapsed": false,
    "deletable": true,
    "editable": true
   },
   "outputs": [
    {
     "name": "stdout",
     "output_type": "stream",
     "text": [
      "Image Input Tests Passed.\n",
      "Label Input Tests Passed.\n",
      "Keep Prob Tests Passed.\n"
     ]
    }
   ],
   "source": [
    "import tensorflow as tf\n",
    "\n",
    "def neural_net_image_input(image_shape):\n",
    "    \"\"\"\n",
    "    Return a Tensor for a bach of image input\n",
    "    : image_shape: Shape of the images\n",
    "    : return: Tensor for image input.\n",
    "    \"\"\"\n",
    "    # TODO: Implement Function\n",
    "    shape = [None] \n",
    "    for item in image_shape:\n",
    "        shape.append(item)\n",
    "    \n",
    "    return tf.placeholder(tf.float32, shape=shape, name='x')\n",
    "\n",
    "\n",
    "def neural_net_label_input(n_classes):\n",
    "    \"\"\"\n",
    "    Return a Tensor for a batch of label input\n",
    "    : n_classes: Number of classes\n",
    "    : return: Tensor for label input.\n",
    "    \"\"\"\n",
    "    # TODO: Implement Function\n",
    "    return tf.placeholder(tf.float32, shape=[None,n_classes], name='y')\n",
    "    \n",
    "def neural_net_keep_prob_input():\n",
    "    \"\"\"\n",
    "    Return a Tensor for keep probability\n",
    "    : return: Tensor for keep probability.\n",
    "    \"\"\"\n",
    "    # TODO: Implement Function\n",
    "    return tf.placeholder(tf.float32, shape=None, name='keep_prob')\n",
    "\n",
    "\n",
    "\"\"\"\n",
    "DON'T MODIFY ANYTHING IN THIS CELL THAT IS BELOW THIS LINE\n",
    "\"\"\"\n",
    "tf.reset_default_graph()\n",
    "tests.test_nn_image_inputs(neural_net_image_input)\n",
    "tests.test_nn_label_inputs(neural_net_label_input)\n",
    "tests.test_nn_keep_prob_inputs(neural_net_keep_prob_input)"
   ]
  },
  {
   "cell_type": "markdown",
   "metadata": {
    "deletable": true,
    "editable": true
   },
   "source": [
    "### Convolution and Max Pooling Layer\n",
    "Convolution layers have a lot of success with images. For this code cell, you should implement the function `conv2d_maxpool` to apply convolution then max pooling:\n",
    "* Create the weight and bias using `conv_ksize`, `conv_num_outputs` and the shape of `x_tensor`.\n",
    "* Apply a convolution to `x_tensor` using weight and `conv_strides`.\n",
    " * We recommend you use same padding, but you're welcome to use any padding.\n",
    "* Add bias\n",
    "* Add a nonlinear activation to the convolution.\n",
    "* Apply Max Pooling using `pool_ksize` and `pool_strides`.\n",
    " * We recommend you use same padding, but you're welcome to use any padding.\n",
    "\n",
    "**Note:** You **can't** use [TensorFlow Layers](https://www.tensorflow.org/api_docs/python/tf/layers) or [TensorFlow Layers (contrib)](https://www.tensorflow.org/api_guides/python/contrib.layers) for **this** layer, but you can still use TensorFlow's [Neural Network](https://www.tensorflow.org/api_docs/python/tf/nn) package. You may still use the shortcut option for all the **other** layers."
   ]
  },
  {
   "cell_type": "code",
   "execution_count": 3,
   "metadata": {
    "collapsed": false,
    "deletable": true,
    "editable": true
   },
   "outputs": [
    {
     "name": "stdout",
     "output_type": "stream",
     "text": [
      "Tests Passed\n"
     ]
    }
   ],
   "source": [
    "def conv2d_maxpool(x_tensor, conv_num_outputs, conv_ksize, conv_strides, pool_ksize, pool_strides):\n",
    "    \"\"\"\n",
    "    Apply convolution then max pooling to x_tensor\n",
    "    :param x_tensor: TensorFlow Tensor\n",
    "    :param conv_num_outputs: Number of outputs for the convolutional layer\n",
    "    :param conv_ksize: kernal size 2-D Tuple for the convolutional layer\n",
    "    :param conv_strides: Stride 2-D Tuple for convolution\n",
    "    :param pool_ksize: kernal size 2-D Tuple for pool\n",
    "    :param pool_strides: Stride 2-D Tuple for pool\n",
    "    : return: A tensor that represents convolution and max pooling of x_tensor\\\n",
    "    \"\"\"\n",
    "    # TODO: Implement Function\n",
    "    # I needed to take apart the x_tensor so I could \n",
    "    # be sure of what I was doing\n",
    "    tensor_shape = x_tensor.get_shape().as_list()\n",
    "\n",
    "    batch = tensor_shape[0]\n",
    "    in_height = tensor_shape[1]\n",
    "    in_width = tensor_shape[2]\n",
    "    in_channels = tensor_shape[3] \n",
    "    \n",
    "    filter_height = conv_ksize[0]\n",
    "    filter_width = conv_ksize[1]\n",
    "    pool_height = pool_ksize[0]\n",
    "    pool_width = pool_ksize[1]\n",
    "    \n",
    "    out_channels = conv_num_outputs\n",
    "\n",
    "    filter_bias = tf.Variable(tf.zeros(conv_num_outputs))\n",
    "\n",
    "    padding = 'SAME'\n",
    "\n",
    "    x_filter = tf.Variable(tf.truncated_normal((filter_height, filter_width, in_channels, out_channels)))\n",
    "    \n",
    "    conv = tf.nn.conv2d(x_tensor, \n",
    "                        x_filter, \n",
    "                        strides=[1, conv_strides[0], conv_strides[1], 1], \n",
    "                        padding=padding) + filter_bias\n",
    "\n",
    "    conv = tf.nn.max_pool(conv,\n",
    "                            ksize=[1,pool_height, pool_width, 1], \n",
    "                            strides = [1, pool_strides[0], pool_strides[1], 1], \n",
    "                            padding=padding)\n",
    "    \n",
    "    #print (x_tensor.get_shape().as_list())\n",
    "    #print (conv.get_shape().as_list())\n",
    "\n",
    "    return conv\n",
    "\n",
    "\n",
    "\"\"\"\n",
    "DON'T MODIFY ANYTHING IN THIS CELL THAT IS BELOW THIS LINE\n",
    "\"\"\"\n",
    "tests.test_con_pool(conv2d_maxpool)"
   ]
  },
  {
   "cell_type": "markdown",
   "metadata": {
    "deletable": true,
    "editable": true
   },
   "source": [
    "### Flatten Layer\n",
    "Implement the `flatten` function to change the dimension of `x_tensor` from a 4-D tensor to a 2-D tensor.  The output should be the shape (*Batch Size*, *Flattened Image Size*). Shortcut option: you can use classes from the [TensorFlow Layers](https://www.tensorflow.org/api_docs/python/tf/layers) or [TensorFlow Layers (contrib)](https://www.tensorflow.org/api_guides/python/contrib.layers) packages for this layer. For more of a challenge, only use other TensorFlow packages."
   ]
  },
  {
   "cell_type": "code",
   "execution_count": 4,
   "metadata": {
    "collapsed": false,
    "deletable": true,
    "editable": true
   },
   "outputs": [
    {
     "name": "stdout",
     "output_type": "stream",
     "text": [
      "Tests Passed\n"
     ]
    }
   ],
   "source": [
    "def flatten(x_tensor):\n",
    "    \"\"\"\n",
    "    Flatten x_tensor to (Batch Size, Flattened Image Size)\n",
    "    : x_tensor: A tensor of size (Batch Size, ...), where ... are the image dimensions.\n",
    "    : return: A tensor of size (Batch Size, Flattened Image Size).\n",
    "    \"\"\"\n",
    "    # TODO: Implement Function\n",
    "    \n",
    "    shape = x_tensor.get_shape().as_list()\n",
    "    dim = np.prod(shape[1:])\n",
    "    return tf.reshape(x_tensor, [-1, dim])\n",
    "\n",
    "\n",
    "\"\"\"\n",
    "DON'T MODIFY ANYTHING IN THIS CELL THAT IS BELOW THIS LINE\n",
    "\"\"\"\n",
    "tests.test_flatten(flatten)"
   ]
  },
  {
   "cell_type": "markdown",
   "metadata": {
    "deletable": true,
    "editable": true
   },
   "source": [
    "### Fully-Connected Layer\n",
    "Implement the `fully_conn` function to apply a fully connected layer to `x_tensor` with the shape (*Batch Size*, *num_outputs*). Shortcut option: you can use classes from the [TensorFlow Layers](https://www.tensorflow.org/api_docs/python/tf/layers) or [TensorFlow Layers (contrib)](https://www.tensorflow.org/api_guides/python/contrib.layers) packages for this layer. For more of a challenge, only use other TensorFlow packages."
   ]
  },
  {
   "cell_type": "code",
   "execution_count": 5,
   "metadata": {
    "collapsed": false,
    "deletable": true,
    "editable": true
   },
   "outputs": [
    {
     "name": "stdout",
     "output_type": "stream",
     "text": [
      "Tests Passed\n"
     ]
    }
   ],
   "source": [
    "def fully_conn(x_tensor, num_outputs):\n",
    "    \"\"\"\n",
    "    Apply a fully connected layer to x_tensor using weight and bias\n",
    "    : x_tensor: A 2-D tensor where the first dimension is batch size.\n",
    "    : num_outputs: The number of output that the new tensor should be.\n",
    "    : return: A 2-D tensor where the second dimension is num_outputs.\n",
    "    \"\"\"\n",
    "    # TODO: Implement Function\n",
    "    # weights\n",
    "    weights = tf.Variable(tf.random_normal([x_tensor.get_shape().as_list()[1], num_outputs]))\n",
    "    # bias\n",
    "    bias = tf.Variable(tf.random_normal([num_outputs]))\n",
    "    # connect:\n",
    "    connected = tf.reshape(x_tensor, [-1, weights.get_shape().as_list()[0]])\n",
    "    # add the weights and bias\n",
    "    connected = tf.add(tf.matmul(connected, weights), bias)\n",
    "    \n",
    "    return connected\n",
    "\n",
    "\n",
    "\"\"\"\n",
    "DON'T MODIFY ANYTHING IN THIS CELL THAT IS BELOW THIS LINE\n",
    "\"\"\"\n",
    "tests.test_fully_conn(fully_conn)"
   ]
  },
  {
   "cell_type": "markdown",
   "metadata": {
    "deletable": true,
    "editable": true
   },
   "source": [
    "### Output Layer\n",
    "Implement the `output` function to apply a fully connected layer to `x_tensor` with the shape (*Batch Size*, *num_outputs*). Shortcut option: you can use classes from the [TensorFlow Layers](https://www.tensorflow.org/api_docs/python/tf/layers) or [TensorFlow Layers (contrib)](https://www.tensorflow.org/api_guides/python/contrib.layers) packages for this layer. For more of a challenge, only use other TensorFlow packages.\n",
    "\n",
    "**Note:** Activation, softmax, or cross entropy should **not** be applied to this."
   ]
  },
  {
   "cell_type": "code",
   "execution_count": 6,
   "metadata": {
    "collapsed": false,
    "deletable": true,
    "editable": true
   },
   "outputs": [
    {
     "name": "stdout",
     "output_type": "stream",
     "text": [
      "Tests Passed\n"
     ]
    }
   ],
   "source": [
    "def output(x_tensor, num_outputs):\n",
    "    \"\"\"\n",
    "    Apply a output layer to x_tensor using weight and bias\n",
    "    : x_tensor: A 2-D tensor where the first dimension is batch size.\n",
    "    : num_outputs: The number of output that the new tensor should be.\n",
    "    : return: A 2-D tensor where the second dimension is num_outputs.\n",
    "    \"\"\"\n",
    "    # TODO: Implement Function\n",
    "    # Seems like we could've just used a fully connected layer...\n",
    "    weights = tf.Variable(tf.random_normal([x_tensor.get_shape().as_list()[1], num_outputs]))\n",
    "    # bias\n",
    "    bias = tf.Variable(tf.random_normal([num_outputs]))\n",
    "    out = tf.reshape(x_tensor, [-1, weights.get_shape().as_list()[0]])\n",
    "    out = tf.add(tf.matmul(out, weights), bias)    \n",
    "    \n",
    "    return out\n",
    "\n",
    "\n",
    "\"\"\"\n",
    "DON'T MODIFY ANYTHING IN THIS CELL THAT IS BELOW THIS LINE\n",
    "\"\"\"\n",
    "tests.test_output(output)"
   ]
  },
  {
   "cell_type": "markdown",
   "metadata": {
    "deletable": true,
    "editable": true
   },
   "source": [
    "### Create Convolutional Model\n",
    "Implement the function `conv_net` to create a convolutional neural network model. The function takes in a batch of images, `x`, and outputs logits.  Use the layers you created above to create this model:\n",
    "\n",
    "* Apply 1, 2, or 3 Convolution and Max Pool layers\n",
    "* Apply a Flatten Layer\n",
    "* Apply 1, 2, or 3 Fully Connected Layers\n",
    "* Apply an Output Layer\n",
    "* Return the output\n",
    "* Apply [TensorFlow's Dropout](https://www.tensorflow.org/api_docs/python/tf/nn/dropout) to one or more layers in the model using `keep_prob`. "
   ]
  },
  {
   "cell_type": "code",
   "execution_count": 114,
   "metadata": {
    "collapsed": false,
    "deletable": true,
    "editable": true
   },
   "outputs": [
    {
     "name": "stdout",
     "output_type": "stream",
     "text": [
      "[None, 8, 8, 64]\n",
      "[None, 4, 4, 128]\n",
      "[None, 2, 2, 256]\n",
      "[None, 8, 8, 64]\n",
      "[None, 4, 4, 128]\n",
      "[None, 2, 2, 256]\n",
      "Neural Network Built!\n"
     ]
    }
   ],
   "source": [
    "def conv_net(x, keep_prob):\n",
    "    \"\"\"\n",
    "    Create a convolutional neural network model\n",
    "    : x: Placeholder tensor that holds image data.\n",
    "    : keep_prob: Placeholder tensor that hold dropout keep probability.\n",
    "    : return: Tensor that represents logits\n",
    "    \"\"\"\n",
    "    # TODO: Apply 1, 2, or 3 Convolution and Max Pool layers\n",
    "    #    Play around with different number of outputs, kernel size and stride\n",
    "    # Function Definition from Above:\n",
    "    #    conv2d_maxpool(x_tensor, conv_num_outputs, conv_ksize, conv_strides, pool_ksize, pool_strides)\n",
    "   \n",
    "    con1 = conv2d_maxpool(x, 64, (8,8), (2,2), (4,4), (2,2))\n",
    "    #con1 = tf.nn.relu(con1)\n",
    "    #con1 = tf.nn.dropout(con1, keep_prob)\n",
    "    print (con1.get_shape().as_list())\n",
    "    \n",
    "    # Layer 2: 16x16x32 to 8x8x64\n",
    "    con2 = conv2d_maxpool(con1, 128, (4,4), (2,2), (2,2), (1,1))\n",
    "    #con2 = tf.nn.relu(con2)\n",
    "    #con2 = tf.nn.dropout(con2, keep_prob)\n",
    "    print (con2.get_shape().as_list())\n",
    "    \n",
    "    #con3 = conv2d_maxpool(con2, 256, (2,2), (2,2), (1,1), (1,1))\n",
    "    #con3 = tf.nn.relu(con3)\n",
    "    #con3 = tf.nn.dropout(con3, keep_prob)\n",
    "    #print (con3.get_shape().as_list())\n",
    "\n",
    "    # TODO: Apply a Flatten Layer\n",
    "    # Function Definition from Above:\n",
    "    #   flatten(x_tensor)\n",
    "    flatty = flatten(con2)\n",
    "    \n",
    "\n",
    "    # TODO: Apply 1, 2, or 3 Fully Connected Layers\n",
    "    #    Play around with different number of outputs\n",
    "    # Function Definition from Above:\n",
    "    #   fully_conn(x_tensor, num_outputs)\n",
    "    \n",
    "    fc1 = fully_conn(flatty, 1024)\n",
    "    #fc1 = tf.nn.elu(fc1)\n",
    "    fc1 = tf.nn.dropout(fc1, keep_prob)\n",
    "    fc2 = fully_conn(fc1, 1024)\n",
    "    #fc2 = tf.nn.elu(fc2)\n",
    "    fc2 = tf.nn.dropout(fc2, keep_prob)\n",
    "        \n",
    "    \n",
    "    # TODO: Apply an Output Layer\n",
    "    #    Set this to the number of classes\n",
    "    # Function Definition from Above:\n",
    "    #   output(x_tensor, num_outputs)\n",
    "    \n",
    "    # Output Layer: 2048 to 10\n",
    "    #Layer8 = tf.nn.relu(Layer6)\n",
    "    Layer8 = output(fc2, 10)\n",
    "    #Layer7 = tf.nn.relu(Layer7)\n",
    "    \n",
    "    # TODO: return output\n",
    "    return Layer8\n",
    "\n",
    "\n",
    "\"\"\"\n",
    "DON'T MODIFY ANYTHING IN THIS CELL THAT IS BELOW THIS LINE\n",
    "\"\"\"\n",
    "\n",
    "##############################\n",
    "## Build the Neural Network ##\n",
    "##############################\n",
    "\n",
    "# Remove previous weights, bias, inputs, etc..\n",
    "tf.reset_default_graph()\n",
    "\n",
    "# Inputs\n",
    "x = neural_net_image_input((32, 32, 3))\n",
    "y = neural_net_label_input(10)\n",
    "keep_prob = neural_net_keep_prob_input()\n",
    "\n",
    "# Model\n",
    "logits = conv_net(x, keep_prob)\n",
    "\n",
    "# Name logits Tensor, so that is can be loaded from disk after training\n",
    "logits = tf.identity(logits, name='logits')\n",
    "\n",
    "# Loss and Optimizer\n",
    "cost = tf.reduce_mean(tf.nn.softmax_cross_entropy_with_logits(logits=logits, labels=y))\n",
    "optimizer = tf.train.AdamOptimizer().minimize(cost)\n",
    "\n",
    "# Accuracy\n",
    "correct_pred = tf.equal(tf.argmax(logits, 1), tf.argmax(y, 1))\n",
    "accuracy = tf.reduce_mean(tf.cast(correct_pred, tf.float32), name='accuracy')\n",
    "\n",
    "tests.test_conv_net(conv_net)"
   ]
  },
  {
   "cell_type": "markdown",
   "metadata": {
    "deletable": true,
    "editable": true
   },
   "source": [
    "## Train the Neural Network\n",
    "### Single Optimization\n",
    "Implement the function `train_neural_network` to do a single optimization.  The optimization should use `optimizer` to optimize in `session` with a `feed_dict` of the following:\n",
    "* `x` for image input\n",
    "* `y` for labels\n",
    "* `keep_prob` for keep probability for dropout\n",
    "\n",
    "This function will be called for each batch, so `tf.global_variables_initializer()` has already been called.\n",
    "\n",
    "Note: Nothing needs to be returned. This function is only optimizing the neural network."
   ]
  },
  {
   "cell_type": "code",
   "execution_count": 115,
   "metadata": {
    "collapsed": false,
    "deletable": true,
    "editable": true
   },
   "outputs": [
    {
     "name": "stdout",
     "output_type": "stream",
     "text": [
      "Tests Passed\n"
     ]
    }
   ],
   "source": [
    "def train_neural_network(session, optimizer, keep_probability, feature_batch, label_batch):\n",
    "    \"\"\"\n",
    "    Optimize the session on a batch of images and labels\n",
    "    : session: Current TensorFlow session\n",
    "    : optimizer: TensorFlow optimizer function\n",
    "    : keep_probability: keep probability\n",
    "    : feature_batch: Batch of Numpy image data\n",
    "    : label_batch: Batch of Numpy label data\n",
    "    \"\"\"\n",
    "    # TODO: Implement Function\n",
    "    session.run(optimizer, feed_dict={x: feature_batch, y: label_batch, keep_prob: keep_probability})\n",
    "    \n",
    "\n",
    "\"\"\"\n",
    "DON'T MODIFY ANYTHING IN THIS CELL THAT IS BELOW THIS LINE\n",
    "\"\"\"\n",
    "tests.test_train_nn(train_neural_network)"
   ]
  },
  {
   "cell_type": "markdown",
   "metadata": {
    "deletable": true,
    "editable": true
   },
   "source": [
    "### Show Stats\n",
    "Implement the function `print_stats` to print loss and validation accuracy.  Use the global variables `valid_features` and `valid_labels` to calculate validation accuracy.  Use a keep probability of `1.0` to calculate the loss and validation accuracy."
   ]
  },
  {
   "cell_type": "code",
   "execution_count": 116,
   "metadata": {
    "collapsed": false,
    "deletable": true,
    "editable": true
   },
   "outputs": [],
   "source": [
    "def print_stats(session, feature_batch, label_batch, cost, accuracy):\n",
    "    \"\"\"\n",
    "    Print information about loss and validation accuracy\n",
    "    : session: Current TensorFlow session\n",
    "    : feature_batch: Batch of Numpy image data\n",
    "    : label_batch: Batch of Numpy label data\n",
    "    : cost: TensorFlow cost function\n",
    "    : accuracy: TensorFlow accuracy function\n",
    "    \"\"\"\n",
    "    # TODO: Implement Function\n",
    "    loss = session.run(cost, feed_dict={\n",
    "        x: feature_batch,\n",
    "        y: label_batch,\n",
    "        keep_prob: 1.})\n",
    "    valid_acc = session.run(accuracy, feed_dict={    \n",
    "        x: valid_features[:128],\n",
    "        y: valid_labels[:128],\n",
    "        keep_prob: 1.})\n",
    "    print('Loss: {:.4f} Val. Accuracy: {:.4f}'.format(\n",
    "            loss,\n",
    "            valid_acc))\n",
    "\n",
    "    "
   ]
  },
  {
   "cell_type": "markdown",
   "metadata": {
    "deletable": true,
    "editable": true
   },
   "source": [
    "### Hyperparameters\n",
    "Tune the following parameters:\n",
    "* Set `epochs` to the number of iterations until the network stops learning or start overfitting\n",
    "* Set `batch_size` to the highest number that your machine has memory for.  Most people set them to common sizes of memory:\n",
    " * 64\n",
    " * 128\n",
    " * 256\n",
    " * ...\n",
    "* Set `keep_probability` to the probability of keeping a node using dropout"
   ]
  },
  {
   "cell_type": "code",
   "execution_count": 117,
   "metadata": {
    "collapsed": true,
    "deletable": true,
    "editable": true
   },
   "outputs": [],
   "source": [
    "# TODO: Tune Parameters\n",
    "epochs = 20\n",
    "batch_size = 128\n",
    "keep_probability = .50"
   ]
  },
  {
   "cell_type": "markdown",
   "metadata": {
    "deletable": true,
    "editable": true
   },
   "source": [
    "### Train on a Single CIFAR-10 Batch\n",
    "Instead of training the neural network on all the CIFAR-10 batches of data, let's use a single batch. This should save time while you iterate on the model to get a better accuracy.  Once the final validation accuracy is 50% or greater, run the model on all the data in the next section."
   ]
  },
  {
   "cell_type": "code",
   "execution_count": 118,
   "metadata": {
    "collapsed": false,
    "deletable": true,
    "editable": true
   },
   "outputs": [
    {
     "name": "stdout",
     "output_type": "stream",
     "text": [
      "Checking the Training on a Single Batch...\n",
      "Epoch  1, CIFAR-10 Batch 1:  Loss: 2857857.5000 Val. Accuracy: 0.2891\n",
      "Epoch  2, CIFAR-10 Batch 1:  Loss: 2100522.7500 Val. Accuracy: 0.3281\n",
      "Epoch  3, CIFAR-10 Batch 1:  Loss: 1583209.7500 Val. Accuracy: 0.3438\n",
      "Epoch  4, CIFAR-10 Batch 1:  Loss: 1438490.2500 Val. Accuracy: 0.3906\n",
      "Epoch  5, CIFAR-10 Batch 1:  Loss: 1064171.6250 Val. Accuracy: 0.3750\n",
      "Epoch  6, CIFAR-10 Batch 1:  Loss: 968474.6250 Val. Accuracy: 0.4141\n",
      "Epoch  7, CIFAR-10 Batch 1:  Loss: 837093.2500 Val. Accuracy: 0.4062\n",
      "Epoch  8, CIFAR-10 Batch 1:  Loss: 747874.1875 Val. Accuracy: 0.4062\n",
      "Epoch  9, CIFAR-10 Batch 1:  Loss: 667808.8125 Val. Accuracy: 0.4062\n",
      "Epoch 10, CIFAR-10 Batch 1:  Loss: 576214.9375 Val. Accuracy: 0.4453\n",
      "Epoch 11, CIFAR-10 Batch 1:  Loss: 513568.3438 Val. Accuracy: 0.4219\n",
      "Epoch 12, CIFAR-10 Batch 1:  Loss: 462686.5938 Val. Accuracy: 0.4531\n",
      "Epoch 13, CIFAR-10 Batch 1:  Loss: 422565.0625 Val. Accuracy: 0.4375\n",
      "Epoch 14, CIFAR-10 Batch 1:  Loss: 341255.0000 Val. Accuracy: 0.4297\n",
      "Epoch 15, CIFAR-10 Batch 1:  Loss: 344035.8125 Val. Accuracy: 0.4844\n",
      "Epoch 16, CIFAR-10 Batch 1:  Loss: 280047.3750 Val. Accuracy: 0.4609\n",
      "Epoch 17, CIFAR-10 Batch 1:  Loss: 257747.7344 Val. Accuracy: 0.4766\n",
      "Epoch 18, CIFAR-10 Batch 1:  Loss: 229757.7812 Val. Accuracy: 0.4609\n",
      "Epoch 19, CIFAR-10 Batch 1:  Loss: 198948.7812 Val. Accuracy: 0.4688\n",
      "Epoch 20, CIFAR-10 Batch 1:  Loss: 200669.5469 Val. Accuracy: 0.5000\n"
     ]
    }
   ],
   "source": [
    "\"\"\"\n",
    "DON'T MODIFY ANYTHING IN THIS CELL\n",
    "\"\"\"\n",
    "print('Checking the Training on a Single Batch...')\n",
    "with tf.Session() as sess:\n",
    "    # Initializing the variables\n",
    "    sess.run(tf.global_variables_initializer())\n",
    "    \n",
    "    # Training cycle\n",
    "    for epoch in range(epochs):\n",
    "        batch_i = 1\n",
    "        for batch_features, batch_labels in helper.load_preprocess_training_batch(batch_i, batch_size):\n",
    "            train_neural_network(sess, optimizer, keep_probability, batch_features, batch_labels)\n",
    "        print('Epoch {:>2}, CIFAR-10 Batch {}:  '.format(epoch + 1, batch_i), end='')\n",
    "        print_stats(sess, batch_features, batch_labels, cost, accuracy)"
   ]
  },
  {
   "cell_type": "markdown",
   "metadata": {
    "deletable": true,
    "editable": true
   },
   "source": [
    "### Fully Train the Model\n",
    "Now that you got a good accuracy with a single CIFAR-10 batch, try it with all five batches."
   ]
  },
  {
   "cell_type": "code",
   "execution_count": 119,
   "metadata": {
    "collapsed": false,
    "deletable": true,
    "editable": true
   },
   "outputs": [
    {
     "name": "stdout",
     "output_type": "stream",
     "text": [
      "Training...\n",
      "Epoch  1, CIFAR-10 Batch 1:  Loss: 2080717.8750 Val. Accuracy: 0.2891\n",
      "Epoch  1, CIFAR-10 Batch 2:  Loss: 1426815.1250 Val. Accuracy: 0.3047\n",
      "Epoch  1, CIFAR-10 Batch 3:  Loss: 864312.1875 Val. Accuracy: 0.3516\n",
      "Epoch  1, CIFAR-10 Batch 4:  Loss: 892691.1250 Val. Accuracy: 0.3750\n",
      "Epoch  1, CIFAR-10 Batch 5:  Loss: 779890.1250 Val. Accuracy: 0.3906\n",
      "Epoch  2, CIFAR-10 Batch 1:  Loss: 932781.2500 Val. Accuracy: 0.4375\n",
      "Epoch  2, CIFAR-10 Batch 2:  Loss: 764442.7500 Val. Accuracy: 0.3750\n",
      "Epoch  2, CIFAR-10 Batch 3:  Loss: 488209.5938 Val. Accuracy: 0.3828\n",
      "Epoch  2, CIFAR-10 Batch 4:  Loss: 557187.1875 Val. Accuracy: 0.4297\n",
      "Epoch  2, CIFAR-10 Batch 5:  Loss: 599519.2500 Val. Accuracy: 0.4141\n",
      "Epoch  3, CIFAR-10 Batch 1:  Loss: 632394.3750 Val. Accuracy: 0.4609\n",
      "Epoch  3, CIFAR-10 Batch 2:  Loss: 515537.7188 Val. Accuracy: 0.4531\n",
      "Epoch  3, CIFAR-10 Batch 3:  Loss: 397521.1875 Val. Accuracy: 0.4375\n",
      "Epoch  3, CIFAR-10 Batch 4:  Loss: 479295.1250 Val. Accuracy: 0.4609\n",
      "Epoch  3, CIFAR-10 Batch 5:  Loss: 436487.2188 Val. Accuracy: 0.4453\n",
      "Epoch  4, CIFAR-10 Batch 1:  Loss: 491184.2500 Val. Accuracy: 0.5078\n",
      "Epoch  4, CIFAR-10 Batch 2:  Loss: 423656.0938 Val. Accuracy: 0.4141\n",
      "Epoch  4, CIFAR-10 Batch 3:  Loss: 140547.1094 Val. Accuracy: 0.4453\n",
      "Epoch  4, CIFAR-10 Batch 4:  Loss: 385836.1562 Val. Accuracy: 0.4609\n",
      "Epoch  4, CIFAR-10 Batch 5:  Loss: 379742.0938 Val. Accuracy: 0.4531\n",
      "Epoch  5, CIFAR-10 Batch 1:  Loss: 377477.6250 Val. Accuracy: 0.4531\n",
      "Epoch  5, CIFAR-10 Batch 2:  Loss: 319212.8125 Val. Accuracy: 0.4453\n",
      "Epoch  5, CIFAR-10 Batch 3:  Loss: 154408.2344 Val. Accuracy: 0.4531\n",
      "Epoch  5, CIFAR-10 Batch 4:  Loss: 285627.0312 Val. Accuracy: 0.4531\n",
      "Epoch  5, CIFAR-10 Batch 5:  Loss: 316190.2500 Val. Accuracy: 0.4766\n",
      "Epoch  6, CIFAR-10 Batch 1:  Loss: 309307.3750 Val. Accuracy: 0.4922\n",
      "Epoch  6, CIFAR-10 Batch 2:  Loss: 308900.3438 Val. Accuracy: 0.5078\n",
      "Epoch  6, CIFAR-10 Batch 3:  Loss: 136799.2344 Val. Accuracy: 0.5156\n",
      "Epoch  6, CIFAR-10 Batch 4:  Loss: 254635.7188 Val. Accuracy: 0.5312\n",
      "Epoch  6, CIFAR-10 Batch 5:  Loss: 280001.5625 Val. Accuracy: 0.5234\n",
      "Epoch  7, CIFAR-10 Batch 1:  Loss: 294505.5625 Val. Accuracy: 0.5391\n",
      "Epoch  7, CIFAR-10 Batch 2:  Loss: 245883.9688 Val. Accuracy: 0.5391\n",
      "Epoch  7, CIFAR-10 Batch 3:  Loss: 137450.8750 Val. Accuracy: 0.5156\n",
      "Epoch  7, CIFAR-10 Batch 4:  Loss: 248881.2188 Val. Accuracy: 0.5469\n",
      "Epoch  7, CIFAR-10 Batch 5:  Loss: 252221.3750 Val. Accuracy: 0.5234\n",
      "Epoch  8, CIFAR-10 Batch 1:  Loss: 202636.6719 Val. Accuracy: 0.4922\n",
      "Epoch  8, CIFAR-10 Batch 2:  Loss: 210436.3750 Val. Accuracy: 0.5547\n",
      "Epoch  8, CIFAR-10 Batch 3:  Loss: 99178.7422 Val. Accuracy: 0.5078\n",
      "Epoch  8, CIFAR-10 Batch 4:  Loss: 218663.1562 Val. Accuracy: 0.5625\n",
      "Epoch  8, CIFAR-10 Batch 5:  Loss: 212306.5156 Val. Accuracy: 0.5234\n",
      "Epoch  9, CIFAR-10 Batch 1:  Loss: 207244.0938 Val. Accuracy: 0.5156\n",
      "Epoch  9, CIFAR-10 Batch 2:  Loss: 185108.4688 Val. Accuracy: 0.5234\n",
      "Epoch  9, CIFAR-10 Batch 3:  Loss: 126319.8203 Val. Accuracy: 0.4844\n",
      "Epoch  9, CIFAR-10 Batch 4:  Loss: 171228.9531 Val. Accuracy: 0.5469\n",
      "Epoch  9, CIFAR-10 Batch 5:  Loss: 188603.4844 Val. Accuracy: 0.5391\n",
      "Epoch 10, CIFAR-10 Batch 1:  Loss: 214576.7500 Val. Accuracy: 0.5625\n",
      "Epoch 10, CIFAR-10 Batch 2:  Loss: 175382.4688 Val. Accuracy: 0.5625\n",
      "Epoch 10, CIFAR-10 Batch 3:  Loss: 85819.8984 Val. Accuracy: 0.5312\n",
      "Epoch 10, CIFAR-10 Batch 4:  Loss: 166538.0625 Val. Accuracy: 0.5625\n",
      "Epoch 10, CIFAR-10 Batch 5:  Loss: 191873.5312 Val. Accuracy: 0.5703\n",
      "Epoch 11, CIFAR-10 Batch 1:  Loss: 185779.4688 Val. Accuracy: 0.5781\n",
      "Epoch 11, CIFAR-10 Batch 2:  Loss: 163555.0781 Val. Accuracy: 0.5391\n",
      "Epoch 11, CIFAR-10 Batch 3:  Loss: 49081.9805 Val. Accuracy: 0.5156\n",
      "Epoch 11, CIFAR-10 Batch 4:  Loss: 171141.4375 Val. Accuracy: 0.5547\n",
      "Epoch 11, CIFAR-10 Batch 5:  Loss: 191499.0938 Val. Accuracy: 0.5703\n",
      "Epoch 12, CIFAR-10 Batch 1:  Loss: 175545.9062 Val. Accuracy: 0.5703\n",
      "Epoch 12, CIFAR-10 Batch 2:  Loss: 129595.0781 Val. Accuracy: 0.5781\n",
      "Epoch 12, CIFAR-10 Batch 3:  Loss: 58551.9570 Val. Accuracy: 0.5234\n",
      "Epoch 12, CIFAR-10 Batch 4:  Loss: 160012.3750 Val. Accuracy: 0.5703\n",
      "Epoch 12, CIFAR-10 Batch 5:  Loss: 157559.8438 Val. Accuracy: 0.5547\n",
      "Epoch 13, CIFAR-10 Batch 1:  Loss: 171869.5938 Val. Accuracy: 0.5781\n",
      "Epoch 13, CIFAR-10 Batch 2:  Loss: 114478.6484 Val. Accuracy: 0.5234\n",
      "Epoch 13, CIFAR-10 Batch 3:  Loss: 56510.0352 Val. Accuracy: 0.5312\n",
      "Epoch 13, CIFAR-10 Batch 4:  Loss: 130285.0469 Val. Accuracy: 0.5781\n",
      "Epoch 13, CIFAR-10 Batch 5:  Loss: 151154.2656 Val. Accuracy: 0.5078\n",
      "Epoch 14, CIFAR-10 Batch 1:  Loss: 135177.7344 Val. Accuracy: 0.5938\n",
      "Epoch 14, CIFAR-10 Batch 2:  Loss: 106864.5781 Val. Accuracy: 0.5547\n",
      "Epoch 14, CIFAR-10 Batch 3:  Loss: 40661.7969 Val. Accuracy: 0.5625\n",
      "Epoch 14, CIFAR-10 Batch 4:  Loss: 110947.2656 Val. Accuracy: 0.5938\n",
      "Epoch 14, CIFAR-10 Batch 5:  Loss: 136205.4688 Val. Accuracy: 0.5547\n",
      "Epoch 15, CIFAR-10 Batch 1:  Loss: 154382.4062 Val. Accuracy: 0.5781\n",
      "Epoch 15, CIFAR-10 Batch 2:  Loss: 99086.2812 Val. Accuracy: 0.5547\n",
      "Epoch 15, CIFAR-10 Batch 3:  Loss: 28742.5234 Val. Accuracy: 0.5859\n",
      "Epoch 15, CIFAR-10 Batch 4:  Loss: 109191.7188 Val. Accuracy: 0.6172\n",
      "Epoch 15, CIFAR-10 Batch 5:  Loss: 117406.1250 Val. Accuracy: 0.5547\n",
      "Epoch 16, CIFAR-10 Batch 1:  Loss: 120950.4375 Val. Accuracy: 0.5859\n",
      "Epoch 16, CIFAR-10 Batch 2:  Loss: 84051.3125 Val. Accuracy: 0.5703\n",
      "Epoch 16, CIFAR-10 Batch 3:  Loss: 40517.4922 Val. Accuracy: 0.5469\n",
      "Epoch 16, CIFAR-10 Batch 4:  Loss: 108194.6250 Val. Accuracy: 0.5781\n",
      "Epoch 16, CIFAR-10 Batch 5:  Loss: 92141.8906 Val. Accuracy: 0.5547\n",
      "Epoch 17, CIFAR-10 Batch 1:  Loss: 128346.2969 Val. Accuracy: 0.5859\n",
      "Epoch 17, CIFAR-10 Batch 2:  Loss: 89669.6719 Val. Accuracy: 0.5781\n",
      "Epoch 17, CIFAR-10 Batch 3:  Loss: 26450.5898 Val. Accuracy: 0.5547\n",
      "Epoch 17, CIFAR-10 Batch 4:  Loss: 100144.4297 Val. Accuracy: 0.5938\n",
      "Epoch 17, CIFAR-10 Batch 5:  Loss: 93842.6797 Val. Accuracy: 0.5703\n",
      "Epoch 18, CIFAR-10 Batch 1:  Loss: 101727.5938 Val. Accuracy: 0.5391\n",
      "Epoch 18, CIFAR-10 Batch 2:  Loss: 74488.1953 Val. Accuracy: 0.5000\n",
      "Epoch 18, CIFAR-10 Batch 3:  Loss: 15964.2393 Val. Accuracy: 0.5156\n",
      "Epoch 18, CIFAR-10 Batch 4:  Loss: 86353.7500 Val. Accuracy: 0.5469\n",
      "Epoch 18, CIFAR-10 Batch 5:  Loss: 78494.0000 Val. Accuracy: 0.5547\n",
      "Epoch 19, CIFAR-10 Batch 1:  Loss: 106396.3438 Val. Accuracy: 0.5859\n",
      "Epoch 19, CIFAR-10 Batch 2:  Loss: 92453.4453 Val. Accuracy: 0.5156\n",
      "Epoch 19, CIFAR-10 Batch 3:  Loss: 15824.6768 Val. Accuracy: 0.5312\n",
      "Epoch 19, CIFAR-10 Batch 4:  Loss: 65102.3359 Val. Accuracy: 0.5781\n",
      "Epoch 19, CIFAR-10 Batch 5:  Loss: 91979.2812 Val. Accuracy: 0.5547\n",
      "Epoch 20, CIFAR-10 Batch 1:  Loss: 90183.2969 Val. Accuracy: 0.5859\n",
      "Epoch 20, CIFAR-10 Batch 2:  Loss: 68648.0312 Val. Accuracy: 0.5703\n",
      "Epoch 20, CIFAR-10 Batch 3:  Loss: 16295.6416 Val. Accuracy: 0.5312\n",
      "Epoch 20, CIFAR-10 Batch 4:  Loss: 69720.7812 Val. Accuracy: 0.6016\n",
      "Epoch 20, CIFAR-10 Batch 5:  Loss: 68503.2109 Val. Accuracy: 0.5781\n"
     ]
    }
   ],
   "source": [
    "\"\"\"\n",
    "DON'T MODIFY ANYTHING IN THIS CELL\n",
    "\"\"\"\n",
    "save_model_path = './image_classification'\n",
    "\n",
    "print('Training...')\n",
    "with tf.Session() as sess:\n",
    "    # Initializing the variables\n",
    "    sess.run(tf.global_variables_initializer())\n",
    "    \n",
    "    # Training cycle\n",
    "    for epoch in range(epochs):\n",
    "        # Loop over all batches\n",
    "        n_batches = 5\n",
    "        for batch_i in range(1, n_batches + 1):\n",
    "            for batch_features, batch_labels in helper.load_preprocess_training_batch(batch_i, batch_size):\n",
    "                train_neural_network(sess, optimizer, keep_probability, batch_features, batch_labels)\n",
    "            print('Epoch {:>2}, CIFAR-10 Batch {}:  '.format(epoch + 1, batch_i), end='')\n",
    "            print_stats(sess, batch_features, batch_labels, cost, accuracy)\n",
    "            \n",
    "    # Save Model\n",
    "    saver = tf.train.Saver()\n",
    "    save_path = saver.save(sess, save_model_path)"
   ]
  },
  {
   "cell_type": "markdown",
   "metadata": {
    "deletable": true,
    "editable": true
   },
   "source": [
    "# Checkpoint\n",
    "The model has been saved to disk.\n",
    "## Test Model\n",
    "Test your model against the test dataset.  This will be your final accuracy. You should have an accuracy greater than 50%. If you don't, keep tweaking the model architecture and parameters."
   ]
  },
  {
   "cell_type": "code",
   "execution_count": 120,
   "metadata": {
    "collapsed": false,
    "deletable": true,
    "editable": true
   },
   "outputs": [
    {
     "name": "stdout",
     "output_type": "stream",
     "text": [
      "Testing Accuracy: 0.5767405063291139\n",
      "\n"
     ]
    },
    {
     "data": {
      "image/png": "[encoded data removed]",
      "text/plain": [
       "<matplotlib.figure.Figure at 0x7ff5c2351b38>"
      ]
     },
     "metadata": {
      "image/png": {
       "height": 319,
       "width": 349
      }
     },
     "output_type": "display_data"
    }
   ],
   "source": [
    "\"\"\"\n",
    "DON'T MODIFY ANYTHING IN THIS CELL\n",
    "\"\"\"\n",
    "%matplotlib inline\n",
    "%config InlineBackend.figure_format = 'retina'\n",
    "\n",
    "import tensorflow as tf\n",
    "import pickle\n",
    "import helper\n",
    "import random\n",
    "\n",
    "# Set batch size if not already set\n",
    "try:\n",
    "    if batch_size:\n",
    "        pass\n",
    "except NameError:\n",
    "    batch_size = 64\n",
    "\n",
    "save_model_path = './image_classification'\n",
    "n_samples = 4\n",
    "top_n_predictions = 3\n",
    "\n",
    "def test_model():\n",
    "    \"\"\"\n",
    "    Test the saved model against the test dataset\n",
    "    \"\"\"\n",
    "\n",
    "    test_features, test_labels = pickle.load(open('preprocess_training.p', mode='rb'))\n",
    "    loaded_graph = tf.Graph()\n",
    "\n",
    "    with tf.Session(graph=loaded_graph) as sess:\n",
    "        # Load model\n",
    "        loader = tf.train.import_meta_graph(save_model_path + '.meta')\n",
    "        loader.restore(sess, save_model_path)\n",
    "\n",
    "        # Get Tensors from loaded model\n",
    "        loaded_x = loaded_graph.get_tensor_by_name('x:0')\n",
    "        loaded_y = loaded_graph.get_tensor_by_name('y:0')\n",
    "        loaded_keep_prob = loaded_graph.get_tensor_by_name('keep_prob:0')\n",
    "        loaded_logits = loaded_graph.get_tensor_by_name('logits:0')\n",
    "        loaded_acc = loaded_graph.get_tensor_by_name('accuracy:0')\n",
    "        \n",
    "        # Get accuracy in batches for memory limitations\n",
    "        test_batch_acc_total = 0\n",
    "        test_batch_count = 0\n",
    "        \n",
    "        for train_feature_batch, train_label_batch in helper.batch_features_labels(test_features, test_labels, batch_size):\n",
    "            test_batch_acc_total += sess.run(\n",
    "                loaded_acc,\n",
    "                feed_dict={loaded_x: train_feature_batch, loaded_y: train_label_batch, loaded_keep_prob: 1.0})\n",
    "            test_batch_count += 1\n",
    "\n",
    "        print('Testing Accuracy: {}\\n'.format(test_batch_acc_total/test_batch_count))\n",
    "\n",
    "        # Print Random Samples\n",
    "        random_test_features, random_test_labels = tuple(zip(*random.sample(list(zip(test_features, test_labels)), n_samples)))\n",
    "        random_test_predictions = sess.run(\n",
    "            tf.nn.top_k(tf.nn.softmax(loaded_logits), top_n_predictions),\n",
    "            feed_dict={loaded_x: random_test_features, loaded_y: random_test_labels, loaded_keep_prob: 1.0})\n",
    "        helper.display_image_predictions(random_test_features, random_test_labels, random_test_predictions)\n",
    "\n",
    "\n",
    "test_model()"
   ]
  },
  {
   "cell_type": "markdown",
   "metadata": {
    "deletable": true,
    "editable": true
   },
   "source": [
    "## Why 50-70% Accuracy?\n",
    "You might be wondering why you can't get an accuracy any higher. First things first, 50% isn't bad for a simple CNN.  Pure guessing would get you 10% accuracy. However, you might notice people are getting scores [well above 70%](http://rodrigob.github.io/are_we_there_yet/build/classification_datasets_results.html#43494641522d3130).  That's because we haven't taught you all there is to know about neural networks. We still need to cover a few more techniques.\n",
    "## Submitting This Project\n",
    "When submitting this project, make sure to run all the cells before saving the notebook.  Save the notebook file as \"dlnd_image_classification.ipynb\" and save it as a HTML file under \"File\" -> \"Download as\".  Include the \"helper.py\" and \"problem_unittests.py\" files in your submission."
   ]
  }
 ],
 "metadata": {
  "kernelspec": {
   "display_name": "Python 3",
   "language": "python",
   "name": "python3"
  },
  "language_info": {
   "codemirror_mode": {
    "name": "ipython",
    "version": 3
   },
   "file_extension": ".py",
   "mimetype": "text/x-python",
   "name": "python",
   "nbconvert_exporter": "python",
   "pygments_lexer": "ipython3",
   "version": "3.5.2"
  },
  "widgets": {
   "state": {},
   "version": "1.1.2"
  }
 },
 "nbformat": 4,
 "nbformat_minor": 0
}
